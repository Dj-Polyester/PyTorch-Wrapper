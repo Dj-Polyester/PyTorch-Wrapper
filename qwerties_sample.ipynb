{
 "cells": [
  {
   "cell_type": "code",
   "execution_count": 1,
   "metadata": {},
   "outputs": [],
   "source": [
    "import torch\n",
    "from torch_wrapper.tuning import *\n",
    "from torch_wrapper.models.nets.FFN import *\n",
    "import torch_wrapper.datasets.qwerties as qwerties\n",
    "import matplotlib.pyplot as plt\n",
    "\n"
   ]
  },
  {
   "cell_type": "code",
   "execution_count": 2,
   "metadata": {},
   "outputs": [],
   "source": [
    "dataset, numclasses = qwerties.generate(\n",
    "    [[1, 1], [2, 3], [0, 2]], [25, 50, 100], [0.3, 1, 2]\n",
    ")\n",
    "\n"
   ]
  },
  {
   "cell_type": "code",
   "execution_count": null,
   "metadata": {},
   "outputs": [],
   "source": [
    "coos = [0] * numclasses\n",
    "colors = [\n",
    "    \"b\",\n",
    "    \"g\",\n",
    "    \"r\",\n",
    "    \"c\",\n",
    "    \"m\",\n",
    "    \"y\",\n",
    "    \"k\",\n",
    "    \"w\",\n",
    "]\n",
    "shapes = [\n",
    "    \".\",\n",
    "    \"o\",\n",
    "    \"v\",\n",
    "    \"^\",\n",
    "    \"<\",\n",
    "    \">\",\n",
    "    \"1\",\n",
    "    \"2\",\n",
    "    \"3\",\n",
    "    \"4\",\n",
    "    \"8\",\n",
    "    \"s\",\n",
    "    \"p\",\n",
    "    \"P\",\n",
    "    \"*\",\n",
    "    \"h\",\n",
    "    \"H\",\n",
    "    \"+\",\n",
    "    \"x\",\n",
    "    \"X\",\n",
    "    \"D\",\n",
    "    \"d\",\n",
    "    \"|\",\n",
    "    \"_\",\n",
    "]\n",
    "\n"
   ]
  },
  {
   "cell_type": "code",
   "execution_count": null,
   "metadata": {},
   "outputs": [],
   "source": [
    "data = dataset.tensors[0]\n",
    "labels = dataset.tensors[1]\n",
    "for cls in range(numclasses):\n",
    "    coo = data[torch.where(labels == cls)[0]]\n",
    "    colorIndex = cls % len(colors)\n",
    "    shapeIndex = cls % len(shapes)\n",
    "    marker = f\"{colors[colorIndex]}{shapes[shapeIndex]}\"\n",
    "    plt.plot(coo[:, 0], coo[:, 1], marker)\n",
    "plt.show()\n",
    "\n"
   ]
  },
  {
   "cell_type": "code",
   "execution_count": null,
   "metadata": {},
   "outputs": [],
   "source": [
    "compoundData = Data(dataset)\n",
    "\n"
   ]
  },
  {
   "cell_type": "code",
   "execution_count": null,
   "metadata": {},
   "outputs": [],
   "source": [
    "DEVICE = \"cpu\"\n",
    "\n",
    "\n",
    "tuner = Tuner(\n",
    "    net=FFN,\n",
    "    cv=HoldoutCrossValidation(\n",
    "        TorchClassifier(data=compoundData, _in=2, out=numclasses),\n",
    "    ),\n",
    "    tunableParams={\n",
    "        # data\n",
    "        BATCH_SIZE: [20, 40],\n",
    "        # model\n",
    "        LEARNING_RATE: [0.01, 0.1],\n",
    "        OPTIMIZER: [\"SGD\"],\n",
    "        DEPTH: [4, 8],\n",
    "        NUMBER_OF_HIDDEN_PARAMS: [32, 128],\n",
    "        DROPOUT_RATE: [0.2, 0.5, 0.7],\n",
    "        ENABLE_BATCHNORM: [True],\n",
    "        ACTIVATION_FUNCTION: [\"ReLU\"],\n",
    "    },\n",
    "    device=DEVICE,\n",
    ")\n"
   ]
  },
  {
   "cell_type": "code",
   "execution_count": null,
   "metadata": {},
   "outputs": [],
   "source": [
    "tuner.fit()\n"
   ]
  },
  {
   "cell_type": "code",
   "execution_count": null,
   "metadata": {},
   "outputs": [],
   "source": [
    "from torch_wrapper.analysis import Plotter\n"
   ]
  },
  {
   "cell_type": "code",
   "execution_count": null,
   "metadata": {},
   "outputs": [],
   "source": [
    "plotter = Plotter()\n"
   ]
  },
  {
   "cell_type": "code",
   "execution_count": null,
   "metadata": {},
   "outputs": [],
   "source": [
    "plotter.plot2d(tuner, tuner.filePath)\n"
   ]
  },
  {
   "cell_type": "code",
   "execution_count": null,
   "metadata": {},
   "outputs": [],
   "source": [
    "plotter.plot2d(tuner, tuner.filePath, memEfficient=False)\n"
   ]
  }
 ],
 "metadata": {
  "kernelspec": {
   "display_name": "datascience",
   "language": "python",
   "name": "datascience"
  },
  "language_info": {
   "codemirror_mode": {
    "name": "ipython",
    "version": 3
   },
   "file_extension": ".py",
   "mimetype": "text/x-python",
   "name": "python",
   "nbconvert_exporter": "python",
   "pygments_lexer": "ipython3",
   "version": "3.11.3"
  },
  "orig_nbformat": 4
 },
 "nbformat": 4,
 "nbformat_minor": 2
}
