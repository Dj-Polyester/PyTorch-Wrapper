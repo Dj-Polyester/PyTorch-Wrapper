{
 "cells": [
  {
   "cell_type": "code",
   "execution_count": null,
   "metadata": {},
   "outputs": [],
   "source": [
    "from tuning import *\n",
    "from models.FFN import *\n",
    "import matplotlib.pyplot as plt\n",
    "import datasets.qwerties as qwerties\n",
    ""
   ]
  },
  {
   "cell_type": "code",
   "execution_count": null,
   "metadata": {},
   "outputs": [],
   "source": [
    "data, labels = qwerties.generate(A=[1, 1], B=[2, 3])\n",
    "\n",
    ""
   ]
  },
  {
   "cell_type": "code",
   "execution_count": null,
   "metadata": {},
   "outputs": [],
   "source": [
    "zeroCoo = data[torch.where(labels == 0)[0]]\n",
    "oneCoo = data[torch.where(labels == 1)[0]]\n",
    "zeroCoo[:, 0].shape\n",
    "\n",
    ""
   ]
  },
  {
   "cell_type": "code",
   "execution_count": null,
   "metadata": {},
   "outputs": [],
   "source": [
    "\n",
    "plt.plot(zeroCoo[:, 0], zeroCoo[:, 1], \"go\")\n",
    "plt.plot(oneCoo[:, 0], oneCoo[:, 1], \"bo\")\n",
    "plt.show()\n",
    "\n",
    ""
   ]
  },
  {
   "cell_type": "code",
   "execution_count": null,
   "metadata": {},
   "outputs": [],
   "source": [
    "dataset = Data(data, labels)\n",
    ""
   ]
  },
  {
   "cell_type": "code",
   "execution_count": null,
   "metadata": {},
   "outputs": [],
   "source": [
    "DEVICE = \"cpu\"\n",
    "\n",
    "\n",
    "tuner = Tuner(\n",
    "    net=FFN,\n",
    "    cv=CrossValidation(\n",
    "        TorchClassifier(data=dataset, _in=2, filename=\"results.txt\"),\n",
    "    ),\n",
    "    cvParams={VALIDATION_SIZE: 0.2},\n",
    "    tunableParams={\n",
    "        # data\n",
    "        BATCH_SIZE: [20, 40],\n",
    "        # model\n",
    "        LEARNING_RATE: [0.01, 0.1],\n",
    "        OPTIMIZER: [\"SGD\"],\n",
    "        DEPTH: [4, 8],\n",
    "        NUMBER_OF_HIDDEN_PARAMS: [32, 128],\n",
    "        DROPOUT_RATE: [0.2, 0.5, 0.7],\n",
    "        ENABLE_BATCHNORM: [True],\n",
    "        ACTIVATION_FUNCTION: [\"ReLU\"],\n",
    "    },\n",
    "    device=DEVICE,\n",
    ")\n",
    ""
   ]
  },
  {
   "cell_type": "code",
   "execution_count": null,
   "metadata": {},
   "outputs": [],
   "source": [
    "tuner.fit()\n",
    ""
   ]
  }
 ],
 "nbformat": 4,
 "nbformat_minor": 2,
 "metadata": {
  "language_info": {
   "codemirror_mode": {
    "name": "ipython",
    "version": 3
   },
   "file_extension": ".py",
   "mimetype": "text/x-python",
   "name": "python",
   "nbconvert_exporter": "python",
   "pygments_lexer": "ipython3",
   "version": 3
  },
  "orig_nbformat": 4
 }
}